{
  "nbformat": 4,
  "nbformat_minor": 0,
  "metadata": {
    "colab": {
      "name": "ValidarCPF.ipynb",
      "provenance": [],
      "authorship_tag": "ABX9TyMSu0U7UzxaOqlS+EYiU3bN",
      "include_colab_link": true
    },
    "kernelspec": {
      "name": "python3",
      "display_name": "Python 3"
    },
    "language_info": {
      "name": "python"
    }
  },
  "cells": [
    {
      "cell_type": "markdown",
      "metadata": {
        "id": "view-in-github",
        "colab_type": "text"
      },
      "source": [
        "<a href=\"https://colab.research.google.com/github/joaoCarmo10/Carmo/blob/main/Atividade%20de%20validar%20CPF.ipynb\" target=\"_parent\"><img src=\"https://colab.research.google.com/assets/colab-badge.svg\" alt=\"Open In Colab\"/></a>"
      ]
    },
    {
      "cell_type": "markdown",
      "source": [
        "# Ex Validar CPF"
      ],
      "metadata": {
        "id": "sHcd296TsCTC"
      }
    },
    {
      "cell_type": "markdown",
      "source": [
        "Atividade do curso da Udemy de Python 3 do Básico ao Avançado, do módulo básico, que consiste em você validar um CPF, essa é minha versão:"
      ],
      "metadata": {
        "id": "0w1YuKrC9_CA"
      }
    },
    {
      "cell_type": "markdown",
      "source": [
        "Inicialmente, você pede o input do CPF, coloquei uma outra variavel formatada apenas a nivel de curiosidade"
      ],
      "metadata": {
        "id": "8S5WenGh-WMw"
      }
    },
    {
      "cell_type": "code",
      "source": [
        "\n",
        "CPF = input(\"Digite seu CPF: \")\n",
        "cpf = CPF[:3] + '.' + CPF[3:6] + '.' + CPF[6:9] + '-' + CPF[9:]\n",
        "cpf"
      ],
      "metadata": {
        "colab": {
          "base_uri": "https://localhost:8080/",
          "height": 53
        },
        "id": "DE8GmSZpsFC3",
        "outputId": "03fbe431-1ab1-4011-aaa2-c5e29cb66b41"
      },
      "execution_count": 106,
      "outputs": [
        {
          "name": "stdout",
          "output_type": "stream",
          "text": [
            "Digite seu CPF: 16899535009\n"
          ]
        },
        {
          "output_type": "execute_result",
          "data": {
            "application/vnd.google.colaboratory.intrinsic+json": {
              "type": "string"
            },
            "text/plain": [
              "'168.995.350-09'"
            ]
          },
          "metadata": {},
          "execution_count": 106
        }
      ]
    },
    {
      "cell_type": "markdown",
      "source": [
        "A variável inputada vem como string, então transformei cada um dos valores recebidos como inteiros usando a variável original, multiplicado pela fórmula de validação dada pelo professor luiz Otávio na tela"
      ],
      "metadata": {
        "id": "s7vpNkyb-j8A"
      }
    },
    {
      "cell_type": "code",
      "source": [
        "\n",
        "valor = int(CPF [0]) * 10 + int(CPF[1]) * 9 + int(CPF[2]) * 8 + int(CPF[3]) * 7 + int(CPF[4]) * 6 + int(CPF[5]) * 5 + int(CPF[6]) * 4 + int(CPF[7]) * 3 + int(CPF[8]) * 2\n",
        "print(valor)"
      ],
      "metadata": {
        "colab": {
          "base_uri": "https://localhost:8080/"
        },
        "id": "ugh1ibh_wG38",
        "outputId": "c297b439-06a2-49d2-ae93-9bd507c03c17"
      },
      "execution_count": 107,
      "outputs": [
        {
          "output_type": "stream",
          "name": "stdout",
          "text": [
            "297\n"
          ]
        }
      ]
    },
    {
      "cell_type": "markdown",
      "source": [
        "Após isso, mais uma validação"
      ],
      "metadata": {
        "id": "W48lJc_C-9g5"
      }
    },
    {
      "cell_type": "code",
      "source": [
        "dig = 11 - (valor % 11)\n",
        "dig"
      ],
      "metadata": {
        "colab": {
          "base_uri": "https://localhost:8080/"
        },
        "id": "zsVlNboCxKuT",
        "outputId": "29808a81-05d7-4e3c-fa53-39ca07ce9f17"
      },
      "execution_count": 108,
      "outputs": [
        {
          "output_type": "execute_result",
          "data": {
            "text/plain": [
              "11"
            ]
          },
          "metadata": {},
          "execution_count": 108
        }
      ]
    },
    {
      "cell_type": "markdown",
      "source": [
        "Nesta validação é para checar se o primeiro número confere, ele tem que ser menor que o resultado da validação acima, sendo assim, temos o primeiro dos 2 ultimos digitos"
      ],
      "metadata": {
        "id": "8vtM5MWm_IH3"
      }
    },
    {
      "cell_type": "code",
      "source": [
        "if dig > int(CPF[10]):\n",
        "  print(\"Digito 1 =\", int(CPF[9]))\n",
        "else:\n",
        "  dig"
      ],
      "metadata": {
        "colab": {
          "base_uri": "https://localhost:8080/"
        },
        "id": "2vbp1kRvyhE5",
        "outputId": "68e62785-97c6-40eb-c632-7de1b254b2f2"
      },
      "execution_count": 109,
      "outputs": [
        {
          "output_type": "stream",
          "name": "stdout",
          "text": [
            "Digito 1 = 0\n"
          ]
        }
      ]
    },
    {
      "cell_type": "markdown",
      "source": [
        "O primeiro dos dois ultimos digitos:"
      ],
      "metadata": {
        "id": "dGZXoqdlALU5"
      }
    },
    {
      "cell_type": "code",
      "source": [
        "dig1 = int(cpf[12])\n",
        "dig1"
      ],
      "metadata": {
        "colab": {
          "base_uri": "https://localhost:8080/"
        },
        "id": "uVo-C6pJ8a9g",
        "outputId": "27af35b2-4324-49e8-cf27-28d5824696af"
      },
      "execution_count": 110,
      "outputs": [
        {
          "output_type": "execute_result",
          "data": {
            "text/plain": [
              "0"
            ]
          },
          "metadata": {},
          "execution_count": 110
        }
      ]
    },
    {
      "cell_type": "markdown",
      "source": [
        "Agora, para validar o segundo valor, é multiplicado a variável recebida pela sequencia de (11 a 2), cada valor em int"
      ],
      "metadata": {
        "id": "CSIdH7ONAPhx"
      }
    },
    {
      "cell_type": "code",
      "source": [
        "valor2 = int(CPF [0]) * 11 + int(CPF[1]) * 10 + int(CPF[2]) * 9 + int(CPF[3]) * 8 + int(CPF[4]) * 7 + int(CPF[5]) * 6 + int(CPF[6]) * 5 + int(CPF[7]) * 4 + int(CPF[8]) * 3 + int(CPF[9]) * 2\n",
        "valor2"
      ],
      "metadata": {
        "colab": {
          "base_uri": "https://localhost:8080/"
        },
        "id": "bZsHZLCi1nkk",
        "outputId": "8d069f5d-ee18-4b69-b9ae-1ab178c0b6e0"
      },
      "execution_count": 111,
      "outputs": [
        {
          "output_type": "execute_result",
          "data": {
            "text/plain": [
              "343"
            ]
          },
          "metadata": {},
          "execution_count": 111
        }
      ]
    },
    {
      "cell_type": "markdown",
      "source": [
        "Obtendo o segundo digito:"
      ],
      "metadata": {
        "id": "glx0bdwcAtsx"
      }
    },
    {
      "cell_type": "code",
      "source": [
        "dig2 = 11 - (valor2 % 11)\n",
        "dig2"
      ],
      "metadata": {
        "colab": {
          "base_uri": "https://localhost:8080/"
        },
        "id": "YjU4v_Hu2b3F",
        "outputId": "9edc294d-d97a-4136-8aa7-cdcd45d05530"
      },
      "execution_count": 112,
      "outputs": [
        {
          "output_type": "execute_result",
          "data": {
            "text/plain": [
              "9"
            ]
          },
          "metadata": {},
          "execution_count": 112
        }
      ]
    },
    {
      "cell_type": "markdown",
      "source": [
        "Agora, converte os digitos em strings e concatena o valor dp CPF recebido com os 2 digitos:"
      ],
      "metadata": {
        "id": "0U1TxpDgAxnr"
      }
    },
    {
      "cell_type": "code",
      "source": [
        "novo_cpf = CPF[:9] + str(dig1) + str(dig2)\n",
        "novo_cpf"
      ],
      "metadata": {
        "colab": {
          "base_uri": "https://localhost:8080/",
          "height": 35
        },
        "id": "PpPheF783ZGl",
        "outputId": "0e2b30ef-4f21-44b8-a675-e7d00a27d97d"
      },
      "execution_count": 113,
      "outputs": [
        {
          "output_type": "execute_result",
          "data": {
            "application/vnd.google.colaboratory.intrinsic+json": {
              "type": "string"
            },
            "text/plain": [
              "'16899535009'"
            ]
          },
          "metadata": {},
          "execution_count": 113
        }
      ]
    },
    {
      "cell_type": "markdown",
      "source": [
        "E criamos a condição de validação, se a concatenação for = ao valor recebido, é um CPF válido"
      ],
      "metadata": {
        "id": "kypVvjEIA9Jp"
      }
    },
    {
      "cell_type": "code",
      "source": [
        "if novo_cpf == CPF:\n",
        "  print(\"CPF\", cpf +  \" é valido\")\n",
        "else:\n",
        "  print(\"CPF INVALIDO\")"
      ],
      "metadata": {
        "colab": {
          "base_uri": "https://localhost:8080/"
        },
        "id": "DNYHq1Y57XgO",
        "outputId": "0c9ff063-4c37-448d-fec7-431c1b0e9640"
      },
      "execution_count": 117,
      "outputs": [
        {
          "output_type": "stream",
          "name": "stdout",
          "text": [
            "CPF 168.995.350-09 é valido\n"
          ]
        }
      ]
    },
    {
      "cell_type": "code",
      "source": [
        ""
      ],
      "metadata": {
        "id": "3TAI_dx7BK8p"
      },
      "execution_count": null,
      "outputs": []
    }
  ]
}