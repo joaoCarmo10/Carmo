{
  "nbformat": 4,
  "nbformat_minor": 0,
  "metadata": {
    "colab": {
      "name": "Condicionais.ipynb",
      "provenance": [],
      "collapsed_sections": [],
      "authorship_tag": "ABX9TyMgjIDeEkPtcAmfiC8jxKus",
      "include_colab_link": true
    },
    "kernelspec": {
      "name": "python3",
      "display_name": "Python 3"
    },
    "language_info": {
      "name": "python"
    }
  },
  "cells": [
    {
      "cell_type": "markdown",
      "metadata": {
        "id": "view-in-github",
        "colab_type": "text"
      },
      "source": [
        "<a href=\"https://colab.research.google.com/github/joaoCarmo10/Carmo/blob/main/Condicionais.ipynb\" target=\"_parent\"><img src=\"https://colab.research.google.com/assets/colab-badge.svg\" alt=\"Open In Colab\"/></a>"
      ]
    },
    {
      "cell_type": "markdown",
      "source": [
        "# Estruturas Condicionais"
      ],
      "metadata": {
        "id": "ag_cYvYOJ2dO"
      }
    },
    {
      "cell_type": "code",
      "source": [
        "#retorno boleano\n",
        "10 > 1"
      ],
      "metadata": {
        "colab": {
          "base_uri": "https://localhost:8080/"
        },
        "id": "pry1hvGlJ5x2",
        "outputId": "3da97555-0b2f-4dbf-86e8-c25380e8ced5"
      },
      "execution_count": null,
      "outputs": [
        {
          "output_type": "execute_result",
          "data": {
            "text/plain": [
              "True"
            ]
          },
          "metadata": {},
          "execution_count": 1
        }
      ]
    },
    {
      "cell_type": "code",
      "source": [
        "#Retorno boleano\n",
        "5 <= 4"
      ],
      "metadata": {
        "colab": {
          "base_uri": "https://localhost:8080/"
        },
        "id": "Yh0hLZeeKAIp",
        "outputId": "7441b51e-232a-4f57-d364-8ee9c63a6819"
      },
      "execution_count": null,
      "outputs": [
        {
          "output_type": "execute_result",
          "data": {
            "text/plain": [
              "False"
            ]
          },
          "metadata": {},
          "execution_count": 2
        }
      ]
    },
    {
      "cell_type": "code",
      "source": [
        "#Se a instrução for verdadeira, executa as instruções seguintes:\n",
        "if 10 > 1:\n",
        "  print('Verdadeiro')\n",
        "  print(1 / 2)\n",
        "  print(\"Ultimo comando\")"
      ],
      "metadata": {
        "colab": {
          "base_uri": "https://localhost:8080/"
        },
        "id": "WZ-HwRSzKGaG",
        "outputId": "f962d796-1ffb-442e-cd02-a153cc7ade13"
      },
      "execution_count": null,
      "outputs": [
        {
          "output_type": "stream",
          "name": "stdout",
          "text": [
            "Verdadeiro\n",
            "0.5\n",
            "Ultimo comando\n"
          ]
        }
      ]
    },
    {
      "cell_type": "code",
      "source": [
        "#Cuidado com a identação"
      ],
      "metadata": {
        "id": "VmzGuNdRKgLu"
      },
      "execution_count": null,
      "outputs": []
    },
    {
      "cell_type": "code",
      "source": [
        "if 10 > 1:\n",
        "  print('Verdadeiro')"
      ],
      "metadata": {
        "colab": {
          "base_uri": "https://localhost:8080/"
        },
        "id": "BHrqvnwiL2o3",
        "outputId": "01c9568c-76eb-47a0-dd07-921c7838360d"
      },
      "execution_count": null,
      "outputs": [
        {
          "output_type": "stream",
          "name": "stdout",
          "text": [
            "Verdadeiro\n"
          ]
        }
      ]
    },
    {
      "cell_type": "code",
      "source": [
        ""
      ],
      "metadata": {
        "id": "WKiBrxvdL67h"
      },
      "execution_count": null,
      "outputs": []
    },
    {
      "cell_type": "markdown",
      "source": [
        "## Instrução Else"
      ],
      "metadata": {
        "id": "-wY_6TfzMHz2"
      }
    },
    {
      "cell_type": "code",
      "source": [
        "#A instrução Else é executada caso a instrução IF for falsa"
      ],
      "metadata": {
        "id": "JYurthSLMKUH"
      },
      "execution_count": null,
      "outputs": []
    },
    {
      "cell_type": "code",
      "source": [
        "#Instrução Else\n",
        "if 10 > 20:\n",
        "  print('Verdadeiro')\n",
        "else:\n",
        "  print('Falso')"
      ],
      "metadata": {
        "colab": {
          "base_uri": "https://localhost:8080/"
        },
        "id": "ItzjZ4RvMP5O",
        "outputId": "a12a6324-6f6f-4b6d-d117-d61bccdbb4a9"
      },
      "execution_count": null,
      "outputs": [
        {
          "output_type": "stream",
          "name": "stdout",
          "text": [
            "Falso\n"
          ]
        }
      ]
    },
    {
      "cell_type": "code",
      "source": [
        "#Usando o OR, basta apenas uma condição verdadeira para tudo ser verdadeiro"
      ],
      "metadata": {
        "id": "VNjQ8CaIWspS"
      },
      "execution_count": 1,
      "outputs": []
    },
    {
      "cell_type": "code",
      "source": [
        "Nome = input(\"Qual o Nome?: \")\n",
        "Numero = int(input(\"Qual o Número: \"))\n",
        "if Numero > 100 or Nome == 'João':\n",
        "  print('Olá ' + Nome)\n",
        "else:\n",
        "  print('Recusado')\n"
      ],
      "metadata": {
        "colab": {
          "base_uri": "https://localhost:8080/"
        },
        "id": "1-cu3zqyW3W7",
        "outputId": "87e97940-75ba-4696-90c5-ec4018eef890"
      },
      "execution_count": 18,
      "outputs": [
        {
          "output_type": "stream",
          "name": "stdout",
          "text": [
            "Qual o Nome?: João\n",
            "Qual o Número: 101\n",
            "Olá João\n"
          ]
        }
      ]
    },
    {
      "cell_type": "code",
      "source": [
        "#Usando o AND "
      ],
      "metadata": {
        "id": "N6QZ2l6CZrc7"
      },
      "execution_count": 15,
      "outputs": []
    },
    {
      "cell_type": "code",
      "source": [
        "Nome = input(\"Acerte o nome: \")\n",
        "Numero = int(input(\"Acerte o número: \"))\n",
        "\n",
        "if Nome == 'João' and Numero == 100:\n",
        "  print(\"Ambos estão corretos\")\n",
        "else:\n",
        "  print(\"Tem algo errado aí...\")"
      ],
      "metadata": {
        "colab": {
          "base_uri": "https://localhost:8080/"
        },
        "id": "sBG9eGr_ZwcD",
        "outputId": "fbff8f63-b87d-482d-e075-677434230936"
      },
      "execution_count": 17,
      "outputs": [
        {
          "output_type": "stream",
          "name": "stdout",
          "text": [
            "Acerte o nome: João\n",
            "Acerte o número: 80\n",
            "Tem algo errado aí...\n"
          ]
        }
      ]
    },
    {
      "cell_type": "code",
      "source": [
        "#A instrução ELIF é acionada caso o IF for falso\n",
        "#Elif é tipo um senão se\n",
        "valor = int(input('Valor: '))\n",
        "\n",
        "if valor > 100:\n",
        "  print(\"Ok, valor maior que 100! \")\n",
        "elif valor > 50:\n",
        "  print(\"Ok, Valor é maior que 50! \") \n",
        "else:\n",
        "  print(\"Operação inválida, valor deve ser maior que 50\" )"
      ],
      "metadata": {
        "colab": {
          "base_uri": "https://localhost:8080/"
        },
        "id": "U7NGkHoiaKvs",
        "outputId": "7cc92dec-6344-4726-fce9-20dd13aa2900"
      },
      "execution_count": 24,
      "outputs": [
        {
          "output_type": "stream",
          "name": "stdout",
          "text": [
            "Valor: 2\n",
            "Operação inválida, valor deve ser maior que 50\n"
          ]
        }
      ]
    },
    {
      "cell_type": "code",
      "source": [
        "#Teste de lógica\n",
        "padrao = float(input(\"Insira o valor padrão: \"))\n",
        "chute = float(input(\"Qual valor que você acha que é? \"))\n",
        "\n",
        "if chute > padrao:\n",
        "  print(\"Valor maior que o Padrão\")\n",
        "elif chute < padrao:\n",
        "  print(\"Valor menor que o padrão\")\n",
        "else:\n",
        "  print(\"Acertou o valor!\")"
      ],
      "metadata": {
        "colab": {
          "base_uri": "https://localhost:8080/"
        },
        "id": "a7DPyBR9cJAF",
        "outputId": "62ee6ff9-1735-41d0-8cb4-b6397513d372"
      },
      "execution_count": 31,
      "outputs": [
        {
          "output_type": "stream",
          "name": "stdout",
          "text": [
            "Insira o valor padrão: 50\n",
            "Qual valor que você acha que é? 50\n",
            "Acertou o valor!\n"
          ]
        }
      ]
    },
    {
      "cell_type": "markdown",
      "source": [
        "## If Aninhada"
      ],
      "metadata": {
        "id": "K76v94UagpI1"
      }
    },
    {
      "cell_type": "code",
      "source": [
        "UsuarioCadastro = input(\"Cadastre seu usuário: \")\n",
        "SenhaCadastro = input(\"Cadastre sua senha: \")"
      ],
      "metadata": {
        "colab": {
          "base_uri": "https://localhost:8080/"
        },
        "id": "S7lbRAWXeJFV",
        "outputId": "055ac731-b298-4e0b-d1da-08d4caeacce3"
      },
      "execution_count": 34,
      "outputs": [
        {
          "name": "stdout",
          "output_type": "stream",
          "text": [
            "Cadastre seu usuário: João \n",
            "Cadastre sua senha: 123\n"
          ]
        }
      ]
    },
    {
      "cell_type": "code",
      "source": [
        "Usuario = input(\"Login: \")\n",
        "Senha = input(\"Senha: \")\n",
        "\n",
        "if Usuario == UsuarioCadastro:\n",
        "  if Senha == SenhaCadastro:\n",
        "    print(\"Tudo Ok, bem vindo, \" + Usuario + \"!\")\n",
        "  else:\n",
        "    print(\"Usuário Incorreto!\")\n",
        "else:\n",
        "    print(\"Senha Incorreta!\")"
      ],
      "metadata": {
        "colab": {
          "base_uri": "https://localhost:8080/"
        },
        "id": "TRy5shtEiUIX",
        "outputId": "8d056956-5023-4cc8-85aa-9afb9aad5920"
      },
      "execution_count": 38,
      "outputs": [
        {
          "output_type": "stream",
          "name": "stdout",
          "text": [
            "Login: João\n",
            "Senha: 2\n",
            "Senha Incorreta!\n"
          ]
        }
      ]
    },
    {
      "cell_type": "code",
      "source": [
        ""
      ],
      "metadata": {
        "id": "yWgvr6vkjWlQ"
      },
      "execution_count": null,
      "outputs": []
    }
  ]
}