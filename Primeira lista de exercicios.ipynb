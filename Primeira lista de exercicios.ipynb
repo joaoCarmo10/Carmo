{
  "cells": [
    {
      "cell_type": "markdown",
      "metadata": {
        "id": "view-in-github",
        "colab_type": "text"
      },
      "source": [
        "<a href=\"https://colab.research.google.com/github/joaoCarmo10/Carmo/blob/main/Primeira%20lista%20de%20exercicios.ipynb\" target=\"_parent\"><img src=\"https://colab.research.google.com/assets/colab-badge.svg\" alt=\"Open In Colab\"/></a>"
      ]
    },
    {
      "cell_type": "markdown",
      "metadata": {
        "id": "t8qG28pDnfuM"
      },
      "source": [
        "# Exercícios - Capítulo Dominando o Python"
      ]
    },
    {
      "cell_type": "markdown",
      "metadata": {
        "id": "N9fXnHvPnfuN"
      },
      "source": [
        "1) Imprima a frase \"Eu sou Minerador de Dados!\""
      ]
    },
    {
      "cell_type": "markdown",
      "metadata": {
        "id": "dK5aLDPDnfuO"
      },
      "source": [
        "2) Faça operações matemáticas de soma, subtração, multiplicação e divisão."
      ]
    },
    {
      "cell_type": "markdown",
      "metadata": {
        "id": "Y1hfyqi3nfuO"
      },
      "source": [
        "3) Imprima o tipo de um determinado valor inteiro."
      ]
    },
    {
      "cell_type": "markdown",
      "metadata": {
        "id": "lpMenLb2nfuP"
      },
      "source": [
        "4) Converta o valor passado anteriormente para o tipo float"
      ]
    },
    {
      "cell_type": "markdown",
      "metadata": {
        "id": "L3naneHLnfuP"
      },
      "source": [
        "5) Faça a conversão do valor float recebido anteriormente para o tipo string"
      ]
    },
    {
      "cell_type": "markdown",
      "metadata": {
        "id": "DfN6mDVonfuQ"
      },
      "source": [
        "6) Utilizando funções de arredonamento faça:\n",
        "- Arredonde o valor 2.898\n",
        "- Arredonde o valor 2.4545455 e exiba apenas 4 cadas decimais"
      ]
    },
    {
      "cell_type": "markdown",
      "metadata": {
        "id": "rKA0Gdl0nfuQ"
      },
      "source": [
        "7) Utilizando variáveis faça:\n",
        "- Defina uma variável com o seu nome e imprima o seu valor.\n",
        "- Imprima o tipo dessa variável.\n",
        "- Substitua o valor da sua variável nome com a concatenação do seu valor e o seu sobrenome, depois, imprima o novo valor.\n",
        "    - obs: O resultado dessa variável será Nome Sobrenome, exemplo, Felipe Santana.\n",
        "- Defina duas variaveis com os valores do seu email e idade com apenas uma linha de comando, depois, imprima seus valores."
      ]
    },
    {
      "cell_type": "markdown",
      "metadata": {
        "id": "Xj8LZ11infuR"
      },
      "source": [
        "8) Explique a causa do erro se executar a seguinte instrução para criar uma nova variável: break=10"
      ]
    },
    {
      "cell_type": "markdown",
      "metadata": {
        "id": "UipeTegTnfuS"
      },
      "source": [
        "9) Sobre os objetos Strings, faça:\n",
        "- Defina uma variavel com a string: \"Python é uma maldição!\" e imprima\n",
        "- Imprima o primeiro caracter da variavel.\n",
        "- Imprima os valores do primeiro caracter até o 6.\n",
        "- Faça a contagem de todos os caracteres utilizando uma única linha de comando.\n",
        "- Faça uma contagem de quantos vezes a palavra dados aparece na seguinte frase:\n",
        "    - \"dados é o novo petróleo, em Deus eu confio, para o resto me traga dados..\"\n",
        "- Substitua o primeiro caracter da frase acima para maiúsculo\n",
        "- Quebre as palavras da frase separado por virgula, criando uma lista."
      ]
    },
    {
      "cell_type": "markdown",
      "metadata": {
        "id": "sOfK05ypnfuS"
      },
      "source": [
        "10) Trabalhando com Listas, faça:\n",
        "- Cria uma lista de valores inteiros com o nome idades.\n",
        "- Imprima apenas segundo elemento da lista.\n",
        "- Imprima a contagem de valores da lista.\n",
        "- Substitua o valor do segundo elemento da lista e imprima o resultado.\n",
        "- Imprima apenas os valores do segundo elemento em diante.\n",
        "- Remova qualquer elemento da lista e imprima o resultado.\n",
        "- Defina uma lista chamada salarios com os valores : 900,1200,1500,800,12587,10000.\n",
        "- Verifique se contém o valor 10000 na lista de salarios.\n",
        "- Imprima o menor e maior valor da lista.\n",
        "- Adicione o valor 7000 a lista.\n",
        "- Extenda a lista com dois novos elementos utilizando apenas um método.\n",
        "- Imprima o índice do elemento de valor 800 da lista de salarios.\n",
        "- Faça uma ordenação dos valores da lista de salarios em ordem crescente e decrescente."
      ]
    },
    {
      "cell_type": "markdown",
      "source": [
        "# Questão 1"
      ],
      "metadata": {
        "id": "2JFPC-4lVWSq"
      }
    },
    {
      "cell_type": "code",
      "source": [
        "print(\"Eu sou minerador de dados!\")"
      ],
      "metadata": {
        "colab": {
          "base_uri": "https://localhost:8080/"
        },
        "id": "VuZN53E_vsQM",
        "outputId": "4afbf9b1-50ac-44e0-e99a-1dc0dc947b5c"
      },
      "execution_count": null,
      "outputs": [
        {
          "output_type": "stream",
          "name": "stdout",
          "text": [
            "Eu sou minerador de dados!\n"
          ]
        }
      ]
    },
    {
      "cell_type": "markdown",
      "source": [
        "# Questão 2"
      ],
      "metadata": {
        "id": "3KDegRDTVbHd"
      }
    },
    {
      "cell_type": "code",
      "source": [
        "1 + 1\n"
      ],
      "metadata": {
        "colab": {
          "base_uri": "https://localhost:8080/"
        },
        "id": "7XjJ7fZYvx7U",
        "outputId": "be1da10c-d003-45be-dbb1-b59227679e2b"
      },
      "execution_count": null,
      "outputs": [
        {
          "output_type": "execute_result",
          "data": {
            "text/plain": [
              "2"
            ]
          },
          "metadata": {},
          "execution_count": 4
        }
      ]
    },
    {
      "cell_type": "code",
      "source": [
        "2-2"
      ],
      "metadata": {
        "colab": {
          "base_uri": "https://localhost:8080/"
        },
        "id": "CDeJVQniv1lE",
        "outputId": "31c50883-b992-47aa-c8a8-6303e5faef4e"
      },
      "execution_count": null,
      "outputs": [
        {
          "output_type": "execute_result",
          "data": {
            "text/plain": [
              "0"
            ]
          },
          "metadata": {},
          "execution_count": 5
        }
      ]
    },
    {
      "cell_type": "code",
      "source": [
        "3*3"
      ],
      "metadata": {
        "colab": {
          "base_uri": "https://localhost:8080/"
        },
        "id": "4eJju-NR7zdm",
        "outputId": "bc82ab94-8bca-4e09-fd09-7665ccd93b9b"
      },
      "execution_count": null,
      "outputs": [
        {
          "output_type": "execute_result",
          "data": {
            "text/plain": [
              "9"
            ]
          },
          "metadata": {},
          "execution_count": 6
        }
      ]
    },
    {
      "cell_type": "code",
      "source": [
        "4/4"
      ],
      "metadata": {
        "colab": {
          "base_uri": "https://localhost:8080/"
        },
        "id": "6W7P2ER071LG",
        "outputId": "f5e11933-d8b9-4fa4-f635-4aff0ca4d065"
      },
      "execution_count": null,
      "outputs": [
        {
          "output_type": "execute_result",
          "data": {
            "text/plain": [
              "1.0"
            ]
          },
          "metadata": {},
          "execution_count": 7
        }
      ]
    },
    {
      "cell_type": "markdown",
      "source": [
        "# Questão 3"
      ],
      "metadata": {
        "id": "6MWAxujPVij4"
      }
    },
    {
      "cell_type": "code",
      "source": [
        "i = 10\n",
        "type(i)"
      ],
      "metadata": {
        "colab": {
          "base_uri": "https://localhost:8080/"
        },
        "id": "eA0EKXMK73p-",
        "outputId": "e802eb61-da5c-4acb-abf6-c7878cffc7f8"
      },
      "execution_count": null,
      "outputs": [
        {
          "output_type": "execute_result",
          "data": {
            "text/plain": [
              "int"
            ]
          },
          "metadata": {},
          "execution_count": 15
        }
      ]
    },
    {
      "cell_type": "markdown",
      "source": [
        "# Questão 4"
      ],
      "metadata": {
        "id": "ezpg29ZRVooE"
      }
    },
    {
      "cell_type": "code",
      "source": [
        "float(i)"
      ],
      "metadata": {
        "colab": {
          "base_uri": "https://localhost:8080/"
        },
        "id": "8r63VBV47_83",
        "outputId": "33024505-07d6-4177-a17e-35b7dbe61314"
      },
      "execution_count": null,
      "outputs": [
        {
          "output_type": "execute_result",
          "data": {
            "text/plain": [
              "10.0"
            ]
          },
          "metadata": {},
          "execution_count": 16
        }
      ]
    },
    {
      "cell_type": "markdown",
      "source": [
        "# Questão 5"
      ],
      "metadata": {
        "id": "RF6M5Z-YVxyv"
      }
    },
    {
      "cell_type": "code",
      "source": [
        "str(float(i))"
      ],
      "metadata": {
        "colab": {
          "base_uri": "https://localhost:8080/",
          "height": 35
        },
        "id": "nX9kyv0i8NNm",
        "outputId": "1d2af34c-c139-47ca-ac49-d04f602a1e22"
      },
      "execution_count": null,
      "outputs": [
        {
          "output_type": "execute_result",
          "data": {
            "application/vnd.google.colaboratory.intrinsic+json": {
              "type": "string"
            },
            "text/plain": [
              "'10.0'"
            ]
          },
          "metadata": {},
          "execution_count": 17
        }
      ]
    },
    {
      "cell_type": "markdown",
      "source": [
        "# Questão 6"
      ],
      "metadata": {
        "id": "FpMA4g6pV08m"
      }
    },
    {
      "cell_type": "code",
      "source": [
        "#6a)\n",
        "int(2.898)"
      ],
      "metadata": {
        "colab": {
          "base_uri": "https://localhost:8080/"
        },
        "id": "H_fdZprg8m7u",
        "outputId": "137063a9-6adc-4b1c-c802-0dd2ca81f65b"
      },
      "execution_count": null,
      "outputs": [
        {
          "output_type": "execute_result",
          "data": {
            "text/plain": [
              "2"
            ]
          },
          "metadata": {},
          "execution_count": 18
        }
      ]
    },
    {
      "cell_type": "code",
      "source": [
        "#6a)\n",
        "round(2.898) #Acredito que esse seja o valor rs"
      ],
      "metadata": {
        "colab": {
          "base_uri": "https://localhost:8080/"
        },
        "id": "S8ji8Dg49eVf",
        "outputId": "f3d692a6-c3b8-4a55-d711-df78f51396cc"
      },
      "execution_count": null,
      "outputs": [
        {
          "output_type": "execute_result",
          "data": {
            "text/plain": [
              "3"
            ]
          },
          "metadata": {},
          "execution_count": 20
        }
      ]
    },
    {
      "cell_type": "code",
      "source": [
        "#6b)\n",
        "round(2.4545455, 4)"
      ],
      "metadata": {
        "colab": {
          "base_uri": "https://localhost:8080/"
        },
        "id": "jADSE4y-80LH",
        "outputId": "04fe4a5f-a231-4b4c-85af-8e6725e1f615"
      },
      "execution_count": null,
      "outputs": [
        {
          "output_type": "execute_result",
          "data": {
            "text/plain": [
              "2.4545"
            ]
          },
          "metadata": {},
          "execution_count": 19
        }
      ]
    },
    {
      "cell_type": "markdown",
      "source": [
        "# Questão 7"
      ],
      "metadata": {
        "id": "tnX_DXbiV9Wg"
      }
    },
    {
      "cell_type": "code",
      "source": [
        "Nome = 'João'\n",
        "print(Nome)"
      ],
      "metadata": {
        "id": "W_AKoC3e9YRA",
        "colab": {
          "base_uri": "https://localhost:8080/"
        },
        "outputId": "afdafe03-4529-4d72-ee7b-4918cf9385aa"
      },
      "execution_count": 1,
      "outputs": [
        {
          "output_type": "stream",
          "name": "stdout",
          "text": [
            "João\n"
          ]
        }
      ]
    },
    {
      "cell_type": "code",
      "source": [
        "type(Nome)"
      ],
      "metadata": {
        "colab": {
          "base_uri": "https://localhost:8080/"
        },
        "id": "juS9k5M5WQud",
        "outputId": "3e65b2db-5232-4250-9862-458a94df6f81"
      },
      "execution_count": 2,
      "outputs": [
        {
          "output_type": "execute_result",
          "data": {
            "text/plain": [
              "str"
            ]
          },
          "metadata": {},
          "execution_count": 2
        }
      ]
    },
    {
      "cell_type": "code",
      "source": [
        "Nome2 = Nome + ' Carmo'"
      ],
      "metadata": {
        "id": "-6KoEN_pWudG"
      },
      "execution_count": 7,
      "outputs": []
    },
    {
      "cell_type": "code",
      "source": [
        "print(Nome2)"
      ],
      "metadata": {
        "colab": {
          "base_uri": "https://localhost:8080/"
        },
        "id": "PizH51xSW-_D",
        "outputId": "60218fcc-6d17-42eb-987a-85ba6789b059"
      },
      "execution_count": 8,
      "outputs": [
        {
          "output_type": "stream",
          "name": "stdout",
          "text": [
            "João Carmo\n"
          ]
        }
      ]
    },
    {
      "cell_type": "code",
      "source": [
        "email = 'joaocarmocs@gmail.com'; idade = 27\n",
        "print(email); print(idade)"
      ],
      "metadata": {
        "colab": {
          "base_uri": "https://localhost:8080/"
        },
        "id": "oYyylmydXEbr",
        "outputId": "ca180089-c093-4a25-ec3f-3f7ec6f1302f"
      },
      "execution_count": 16,
      "outputs": [
        {
          "output_type": "stream",
          "name": "stdout",
          "text": [
            "joaocarmocs@gmail.com\n",
            "27\n"
          ]
        }
      ]
    },
    {
      "cell_type": "markdown",
      "source": [
        "# Questão 8"
      ],
      "metadata": {
        "id": "ZZFGsIVoccF9"
      }
    },
    {
      "cell_type": "code",
      "source": [
        "# break = 10"
      ],
      "metadata": {
        "id": "_xuDkq0PX0Z8"
      },
      "execution_count": 18,
      "outputs": []
    },
    {
      "cell_type": "markdown",
      "source": [
        "Comandos do Python não pdem ser variáveis, acredito que seja esse o problema."
      ],
      "metadata": {
        "id": "qbfrb4u_cnER"
      }
    },
    {
      "cell_type": "markdown",
      "source": [
        "# Questão 9"
      ],
      "metadata": {
        "id": "jh-CxxyxdpWS"
      }
    },
    {
      "cell_type": "code",
      "source": [
        "var = 'Python é uma maldição!'\n",
        "var[0]"
      ],
      "metadata": {
        "colab": {
          "base_uri": "https://localhost:8080/",
          "height": 35
        },
        "id": "yJfXGUakYcSU",
        "outputId": "1b282e3f-db30-4fc7-ebc8-4414accb4035"
      },
      "execution_count": 19,
      "outputs": [
        {
          "output_type": "execute_result",
          "data": {
            "application/vnd.google.colaboratory.intrinsic+json": {
              "type": "string"
            },
            "text/plain": [
              "'P'"
            ]
          },
          "metadata": {},
          "execution_count": 19
        }
      ]
    },
    {
      "cell_type": "code",
      "source": [
        "var[:6]"
      ],
      "metadata": {
        "colab": {
          "base_uri": "https://localhost:8080/",
          "height": 35
        },
        "id": "BeYrUygseoxk",
        "outputId": "a124b73e-de07-4de2-e689-3c9341073c9e"
      },
      "execution_count": 22,
      "outputs": [
        {
          "output_type": "execute_result",
          "data": {
            "application/vnd.google.colaboratory.intrinsic+json": {
              "type": "string"
            },
            "text/plain": [
              "'Python'"
            ]
          },
          "metadata": {},
          "execution_count": 22
        }
      ]
    },
    {
      "cell_type": "code",
      "source": [
        "len(var)"
      ],
      "metadata": {
        "colab": {
          "base_uri": "https://localhost:8080/"
        },
        "id": "Si3SFwEpet0N",
        "outputId": "33187a3c-0a96-4f90-a3d7-0b44dc0fce74"
      },
      "execution_count": 23,
      "outputs": [
        {
          "output_type": "execute_result",
          "data": {
            "text/plain": [
              "22"
            ]
          },
          "metadata": {},
          "execution_count": 23
        }
      ]
    },
    {
      "cell_type": "code",
      "source": [
        "var2 = \"dados é o novo petróleo, em Deus eu confio, para o resto me traga dados..\"\n",
        "var2.count(\"dados\")"
      ],
      "metadata": {
        "colab": {
          "base_uri": "https://localhost:8080/"
        },
        "id": "m4Glq1Xze_Qk",
        "outputId": "804a6ede-c1de-4a05-8f21-18336e84cd10"
      },
      "execution_count": 25,
      "outputs": [
        {
          "output_type": "execute_result",
          "data": {
            "text/plain": [
              "2"
            ]
          },
          "metadata": {},
          "execution_count": 25
        }
      ]
    },
    {
      "cell_type": "code",
      "source": [
        "var2.capitalize()"
      ],
      "metadata": {
        "colab": {
          "base_uri": "https://localhost:8080/",
          "height": 35
        },
        "id": "tAdZjpn2fKI8",
        "outputId": "729eecee-09da-4a9e-bb70-45d4b60b7579"
      },
      "execution_count": 31,
      "outputs": [
        {
          "output_type": "execute_result",
          "data": {
            "application/vnd.google.colaboratory.intrinsic+json": {
              "type": "string"
            },
            "text/plain": [
              "'Dados é o novo petróleo, em deus eu confio, para o resto me traga dados..'"
            ]
          },
          "metadata": {},
          "execution_count": 31
        }
      ]
    },
    {
      "cell_type": "code",
      "source": [
        "var2.split()"
      ],
      "metadata": {
        "colab": {
          "base_uri": "https://localhost:8080/"
        },
        "id": "1NeiZryXfcP0",
        "outputId": "ebcd1ef8-1570-4ae9-855e-7e507c78a361"
      },
      "execution_count": 33,
      "outputs": [
        {
          "output_type": "execute_result",
          "data": {
            "text/plain": [
              "['dados',\n",
              " 'é',\n",
              " 'o',\n",
              " 'novo',\n",
              " 'petróleo,',\n",
              " 'em',\n",
              " 'Deus',\n",
              " 'eu',\n",
              " 'confio,',\n",
              " 'para',\n",
              " 'o',\n",
              " 'resto',\n",
              " 'me',\n",
              " 'traga',\n",
              " 'dados..']"
            ]
          },
          "metadata": {},
          "execution_count": 33
        }
      ]
    },
    {
      "cell_type": "markdown",
      "source": [
        "# Questão 10"
      ],
      "metadata": {
        "id": "7_8Iv2H8ge6w"
      }
    },
    {
      "cell_type": "code",
      "source": [
        "lista = ['João', 27, 'ROSE', 40, 'BRENDA', 45, 'RACHEL', 26, 'OSIRIS', 1]\n",
        "lista[1]"
      ],
      "metadata": {
        "colab": {
          "base_uri": "https://localhost:8080/"
        },
        "id": "_fcq6Tltgh5L",
        "outputId": "0bdd50fb-9cf1-4cfc-9869-dd59a2ef707b"
      },
      "execution_count": 35,
      "outputs": [
        {
          "output_type": "execute_result",
          "data": {
            "text/plain": [
              "27"
            ]
          },
          "metadata": {},
          "execution_count": 35
        }
      ]
    },
    {
      "cell_type": "code",
      "source": [
        "len(lista)"
      ],
      "metadata": {
        "colab": {
          "base_uri": "https://localhost:8080/"
        },
        "id": "VSeYobatg5ds",
        "outputId": "e542c142-2b55-4992-e3c2-bc70630ac9ac"
      },
      "execution_count": 36,
      "outputs": [
        {
          "output_type": "execute_result",
          "data": {
            "text/plain": [
              "10"
            ]
          },
          "metadata": {},
          "execution_count": 36
        }
      ]
    },
    {
      "cell_type": "code",
      "source": [
        "lista[1] = 34"
      ],
      "metadata": {
        "id": "cz7QH920hE-c"
      },
      "execution_count": 37,
      "outputs": []
    },
    {
      "cell_type": "code",
      "source": [
        "lista"
      ],
      "metadata": {
        "colab": {
          "base_uri": "https://localhost:8080/"
        },
        "id": "XT0FK5cphQFE",
        "outputId": "60dc826d-3067-4145-ae2c-922f11d97a50"
      },
      "execution_count": 38,
      "outputs": [
        {
          "output_type": "execute_result",
          "data": {
            "text/plain": [
              "['João', 34, 'ROSE', 40, 'BRENDA', 45, 'RACHEL', 26, 'OSIRIS', 1]"
            ]
          },
          "metadata": {},
          "execution_count": 38
        }
      ]
    },
    {
      "cell_type": "code",
      "source": [
        "lista[1:]"
      ],
      "metadata": {
        "colab": {
          "base_uri": "https://localhost:8080/"
        },
        "id": "6OFUgXsghSKU",
        "outputId": "1cc35ebe-e06f-491f-e01c-78d8ec5a8f74"
      },
      "execution_count": 39,
      "outputs": [
        {
          "output_type": "execute_result",
          "data": {
            "text/plain": [
              "[34, 'ROSE', 40, 'BRENDA', 45, 'RACHEL', 26, 'OSIRIS', 1]"
            ]
          },
          "metadata": {},
          "execution_count": 39
        }
      ]
    },
    {
      "cell_type": "code",
      "source": [
        "lista.remove(40)"
      ],
      "metadata": {
        "id": "pmJuKOzkhY00"
      },
      "execution_count": 42,
      "outputs": []
    },
    {
      "cell_type": "code",
      "source": [
        "lista"
      ],
      "metadata": {
        "colab": {
          "base_uri": "https://localhost:8080/"
        },
        "id": "O1anUd86hmmb",
        "outputId": "e7d6053c-aaf8-4d13-94b3-99ec32ebc384"
      },
      "execution_count": 43,
      "outputs": [
        {
          "output_type": "execute_result",
          "data": {
            "text/plain": [
              "['João', 34, 'ROSE', 'BRENDA', 45, 'RACHEL', 26, 'OSIRIS', 1]"
            ]
          },
          "metadata": {},
          "execution_count": 43
        }
      ]
    },
    {
      "cell_type": "code",
      "source": [
        "SALARIOS = [900,1200,1500,800,12587,10000]\n",
        "10000 in SALARIOS"
      ],
      "metadata": {
        "colab": {
          "base_uri": "https://localhost:8080/"
        },
        "id": "thYTSAPUhsBb",
        "outputId": "94adf4ae-7b46-4557-ad4c-4ddc8d5391c0"
      },
      "execution_count": 52,
      "outputs": [
        {
          "output_type": "execute_result",
          "data": {
            "text/plain": [
              "True"
            ]
          },
          "metadata": {},
          "execution_count": 52
        }
      ]
    },
    {
      "cell_type": "code",
      "source": [
        "min(SALARIOS)"
      ],
      "metadata": {
        "colab": {
          "base_uri": "https://localhost:8080/"
        },
        "id": "AdR2WycnieP2",
        "outputId": "b1d44020-2837-46c5-d856-de22ec71ad4f"
      },
      "execution_count": 45,
      "outputs": [
        {
          "output_type": "execute_result",
          "data": {
            "text/plain": [
              "800"
            ]
          },
          "metadata": {},
          "execution_count": 45
        }
      ]
    },
    {
      "cell_type": "code",
      "source": [
        "max(SALARIOS)"
      ],
      "metadata": {
        "colab": {
          "base_uri": "https://localhost:8080/"
        },
        "id": "qovPpcOoihLU",
        "outputId": "ea2d65f5-9a0e-4f5b-9a33-48959443c123"
      },
      "execution_count": 46,
      "outputs": [
        {
          "output_type": "execute_result",
          "data": {
            "text/plain": [
              "12587"
            ]
          },
          "metadata": {},
          "execution_count": 46
        }
      ]
    },
    {
      "cell_type": "code",
      "source": [
        "SALARIOS.append(7000)"
      ],
      "metadata": {
        "id": "8OoCDqnvizQz"
      },
      "execution_count": 54,
      "outputs": []
    },
    {
      "cell_type": "code",
      "source": [
        "SALARIOS"
      ],
      "metadata": {
        "colab": {
          "base_uri": "https://localhost:8080/"
        },
        "id": "HLWMeJ9xi_4E",
        "outputId": "e4550017-64a5-4676-8fd7-810794630b03"
      },
      "execution_count": 55,
      "outputs": [
        {
          "output_type": "execute_result",
          "data": {
            "text/plain": [
              "[900, 1200, 1500, 800, 12587, 10000, 7000]"
            ]
          },
          "metadata": {},
          "execution_count": 55
        }
      ]
    },
    {
      "cell_type": "code",
      "source": [
        "SALARIOS.extend([2,3])"
      ],
      "metadata": {
        "id": "ogbXZDfOjTIU"
      },
      "execution_count": 61,
      "outputs": []
    },
    {
      "cell_type": "code",
      "source": [
        "SALARIOS"
      ],
      "metadata": {
        "colab": {
          "base_uri": "https://localhost:8080/"
        },
        "id": "yNVQ22p3jlm0",
        "outputId": "d509dcac-63c3-4fc9-d88e-c1e36c688064"
      },
      "execution_count": 62,
      "outputs": [
        {
          "output_type": "execute_result",
          "data": {
            "text/plain": [
              "[900, 1200, 1500, 800, 12587, 10000, 7000, 2, 3]"
            ]
          },
          "metadata": {},
          "execution_count": 62
        }
      ]
    },
    {
      "cell_type": "code",
      "source": [
        "SALARIOS.index(800)"
      ],
      "metadata": {
        "colab": {
          "base_uri": "https://localhost:8080/"
        },
        "id": "9qCWWSHYkQJk",
        "outputId": "c55a3a52-1a08-40d4-d316-cb46a21fd54e"
      },
      "execution_count": 63,
      "outputs": [
        {
          "output_type": "execute_result",
          "data": {
            "text/plain": [
              "3"
            ]
          },
          "metadata": {},
          "execution_count": 63
        }
      ]
    },
    {
      "cell_type": "code",
      "source": [
        "SALARIOS.sort()"
      ],
      "metadata": {
        "id": "l8TDixdOkXGM"
      },
      "execution_count": 64,
      "outputs": []
    },
    {
      "cell_type": "code",
      "source": [
        "SALARIOS"
      ],
      "metadata": {
        "colab": {
          "base_uri": "https://localhost:8080/"
        },
        "id": "xE_Rke1XkiKz",
        "outputId": "bc34810d-ef64-4a3b-fc7a-f331d3a452f1"
      },
      "execution_count": 65,
      "outputs": [
        {
          "output_type": "execute_result",
          "data": {
            "text/plain": [
              "[2, 3, 800, 900, 1200, 1500, 7000, 10000, 12587]"
            ]
          },
          "metadata": {},
          "execution_count": 65
        }
      ]
    },
    {
      "cell_type": "code",
      "source": [
        "SALARIOS.sort(reverse=True)"
      ],
      "metadata": {
        "id": "3aYkPnZgkjZ7"
      },
      "execution_count": 70,
      "outputs": []
    },
    {
      "cell_type": "code",
      "source": [
        "SALARIOS"
      ],
      "metadata": {
        "colab": {
          "base_uri": "https://localhost:8080/"
        },
        "id": "ViPD--tskohz",
        "outputId": "271efcda-1686-4df3-a9b6-13b37e187097"
      },
      "execution_count": 71,
      "outputs": [
        {
          "output_type": "execute_result",
          "data": {
            "text/plain": [
              "[12587, 10000, 7000, 1500, 1200, 900, 800, 3, 2]"
            ]
          },
          "metadata": {},
          "execution_count": 71
        }
      ]
    },
    {
      "cell_type": "code",
      "source": [
        ""
      ],
      "metadata": {
        "id": "DS1ZKwbOlI6T"
      },
      "execution_count": null,
      "outputs": []
    }
  ],
  "metadata": {
    "colab": {
      "name": "Exercícios - Dominando o Python - Lista01.ipynb",
      "provenance": [],
      "collapsed_sections": [],
      "include_colab_link": true
    },
    "kernelspec": {
      "display_name": "Python 3",
      "language": "python",
      "name": "python3"
    },
    "language_info": {
      "codemirror_mode": {
        "name": "ipython",
        "version": 3
      },
      "file_extension": ".py",
      "mimetype": "text/x-python",
      "name": "python",
      "nbconvert_exporter": "python",
      "pygments_lexer": "ipython3",
      "version": "3.6.5"
    }
  },
  "nbformat": 4,
  "nbformat_minor": 0
}