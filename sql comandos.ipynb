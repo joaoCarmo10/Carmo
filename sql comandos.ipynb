{
 "cells": [
  {
   "cell_type": "markdown",
   "metadata": {},
   "source": [
    "# Criando banco de dados"
   ]
  },
  {
   "cell_type": "markdown",
   "metadata": {},
   "source": [
    "Para criar um banco de dados, o comando é:\n",
    "\n",
    "CREATE DATABASE <nome>\n",
    "Onde consgeuimos criar tabelas e inserir dados"
   ]
  },
  {
   "cell_type": "markdown",
   "metadata": {},
   "source": [
    "Os comandos são sempre maiusculos, já os nomes são minusculos, tipo: (banco, tabela, coluna), por exemplo:\n",
    "CREATE DATABASE teste;\n",
    "usar sempre \";' no fim"
   ]
  },
  {
   "cell_type": "markdown",
   "metadata": {},
   "source": [
    "criar uma tabela:\n",
    "CREATE TABLE nome(nome da coluna TIPO(quantidade de caracteres));\n",
    "Deletar\n",
    "DROP nome;\n",
    "eXEMPLO: CREATE TABLE produtos(nome VARCHAR(50), sku CHAR(5), informacoes MEDIUMTEXT);"
   ]
  },
  {
   "cell_type": "markdown",
   "metadata": {},
   "source": [
    "# Tipos de dados de texto"
   ]
  },
  {
   "cell_type": "markdown",
   "metadata": {},
   "source": [
    "CHAR(x) aceita textos de 0 a 255 carcteres;\n",
    "VARCHAR(X) é o mais usado, aceita de 0 a 65535;\n",
    "TINYTEXT apenas até 255\n",
    "MEDIUMTEXT apenas textos até 16777215\n",
    "CHAR E VARCHAR aceitam números e caracteres especiais"
   ]
  },
  {
   "cell_type": "markdown",
   "metadata": {},
   "source": [
    "# Inserir dados"
   ]
  },
  {
   "cell_type": "markdown",
   "metadata": {},
   "source": [
    "INSERT INTO tabela (colunas) VALUES (valores)\n",
    "Exemplo: INSERT INTO produtos (nome, sku, informacoes) VALUES (\"Playstation 5\", \"PS5XY\", \"é um vedeogame de última geração\");"
   ]
  },
  {
   "cell_type": "markdown",
   "metadata": {},
   "source": [
    "# Tipos de dados de números"
   ]
  },
  {
   "cell_type": "markdown",
   "metadata": {},
   "source": [
    "BIT(X) 1 a 64 caracteres\n",
    "TINYINT(X) 1 a 255 caracteres\n",
    "BOOL 0 é falso e os outros valores são verdadeiros\n",
    "INT(X) valores entre -2147483648 a 214783648"
   ]
  },
  {
   "cell_type": "markdown",
   "metadata": {},
   "source": [
    "# Tipos de dados DATAS"
   ]
  },
  {
   "cell_type": "markdown",
   "metadata": {},
   "source": [
    "DATE: Aceita uma data no formato YYYY-MM-DD\n",
    "DATETIME: Aceita uma data com horário no formato YYYY-MM-DD hh:mm:ss\n",
    "TIMESTAMP: Aceita uma data no formato de DATETIME, porém apenas entre os anos 1970 a 2038\n",
    "As datas também inserimos entre aspas! "
   ]
  },
  {
   "cell_type": "markdown",
   "metadata": {},
   "source": [
    "# Alteração de tabelas"
   ]
  },
  {
   "cell_type": "markdown",
   "metadata": {},
   "source": [
    "Adicionando colunas:\n",
    "Comando: ALTER TABLE (tabela) ADDCOLUMN (nome TIPO());\n",
    "exemplo: ALTER TABLE funcionarios ADD COLUMN (profissao VARCHAR(100));\n",
    "\n",
    "Removendo colunas:\n",
    "ALTER TABLE (tabela) DROP COLUMN (nome);\n",
    "\n",
    "Alterando o tipo da coluna:\n",
    "ALTER TABLE (tabela)\n",
    " MODIFY COLUMN (coluna (tipo));\n",
    " "
   ]
  },
  {
   "cell_type": "markdown",
   "metadata": {},
   "source": [
    "# Comandos de CRUD"
   ]
  },
  {
   "cell_type": "markdown",
   "metadata": {},
   "source": [
    "CRUD são ações que mais são utilizadas em todas as aplicações\n",
    "Create = criar/inserir dador (insert)\n",
    "Read = ler dados (select)\n",
    "Update = Atualizar dados (update)\n",
    "Delete = deletar/ remover dados (delete)\n",
    "Toda aplicação web com banco de dados tem pelo menos uma dessas operações e possivelmente todas."
   ]
  },
  {
   "cell_type": "markdown",
   "metadata": {},
   "source": [
    "Selecionar colunas especificas"
   ]
  },
  {
   "cell_type": "markdown",
   "metadata": {},
   "source": [
    "SELECT coluna1, coluna2 FROM tabela;\n",
    "criando um filtro e deixando a consulta mais leve."
   ]
  },
  {
   "cell_type": "markdown",
   "metadata": {},
   "source": [
    "# Where"
   ]
  },
  {
   "cell_type": "markdown",
   "metadata": {},
   "source": [
    "Where sempre deve ser inserido em update e delete"
   ]
  },
  {
   "cell_type": "markdown",
   "metadata": {},
   "source": [
    "exemplo: SELECT * FROM pessoas WHERE nome = \"Bob\";"
   ]
  },
  {
   "cell_type": "markdown",
   "metadata": {},
   "source": [
    "# Atualização de dados"
   ]
  },
  {
   "cell_type": "markdown",
   "metadata": {},
   "source": [
    "UPDATE tabela SET coluna=valor WHERE condição\n",
    "pode-se inserir mais colunas, separando-as por virgula\n",
    "Exemplo: UPDATE pessoas SET valor = 1000 WHERE nome = \"Rachel\";"
   ]
  },
  {
   "cell_type": "markdown",
   "metadata": {},
   "source": [
    "# Deletando dados"
   ]
  },
  {
   "cell_type": "markdown",
   "metadata": {},
   "source": [
    "DELETE  FROM tabela WHERE condição\n",
    "Exemplo: DELETE FROM pessoas WEHRE limite > 2000;\n"
   ]
  },
  {
   "cell_type": "markdown",
   "metadata": {},
   "source": [
    "SELECT FORM WHERE\n",
    "Exemplo: SELECT * FROM employees WHERE last_name = \"Koblick\";\n",
    "O where pode ser específico ou agrupamento de pessoas/dados"
   ]
  },
  {
   "cell_type": "markdown",
   "metadata": {},
   "source": [
    "DISTINCT seleciona apenas variações de valores\n",
    "SELECT DISTINCT coluna FROM tabela;\n",
    "Exemplo: SELECT DISTINCT gender FROM employees;"
   ]
  },
  {
   "cell_type": "markdown",
   "metadata": {},
   "source": [
    "Operadores lógicos\n",
    "AND (Recebe duas condições), volta o que atende a duas\n",
    "OR Recebe duas condições volta o que atende a pelo menos 1\n",
    "NOT Inverte uma clausula\n",
    "Exemplo: WHERE id> 10 OR salario > 5000"
   ]
  },
  {
   "cell_type": "markdown",
   "metadata": {},
   "source": [
    "AND\n",
    "Exemplo: SELECT * FROM salaries WHERE salary > 100000 AND from_date > \"1991-06-10\";\n",
    "Exemplo: SELECT * FROM salaries WHERE salary > 100000 AND from_date > \"1991-06-10\" AND emp_no > 10800 AND to_date > \"2000-01-01\";"
   ]
  },
  {
   "cell_type": "markdown",
   "metadata": {},
   "source": [
    "OR \n",
    "Exemplo: WHERE salario > 5000 || profissao = \"Programador\";\n",
    "Exemplo: SELECT * FROM titles WHERE title = \"Senior Engineer\" || title = \"Staff\";\n",
    "Exemplo: SELECT * FROM titles WHERE title = \"Senior Engineer\" || title = \"Staff\" || emp_no > 12500 ORDER BY emp_no DESC;"
   ]
  },
  {
   "cell_type": "markdown",
   "metadata": {},
   "source": [
    "NOT\n",
    "Exemplo: WHERE NOT profissao = \"programador\";\n",
    "Exemplo: SELECT * FROM titles WHERE NOT title = \"Staff\" AND NOT title = \"Senior Engineer\";\n"
   ]
  },
  {
   "cell_type": "markdown",
   "metadata": {},
   "source": [
    "ORDER BY é uma isntrução de ordenação, ASC ou DESC;\n",
    "Exemplo: ORDER BY salario ASC;\n"
   ]
  },
  {
   "cell_type": "markdown",
   "metadata": {},
   "source": [
    "LIMIT - Limitando a quantidade de linhas da consulta\n",
    "\n",
    "Exemplo: SELECT * FROM salaries ORDER BY salary LIMIT 10;\n",
    "Exemplo: SELECT * FROM employees ORDER BY birth_date LIMIT 10;"
   ]
  },
  {
   "cell_type": "markdown",
   "metadata": {},
   "source": [
    "# FUNÇÕES NO SQL\n"
   ]
  },
  {
   "cell_type": "markdown",
   "metadata": {},
   "source": [
    "Função MIN - Retorna menor valor da função\n",
    "SELECT MIN coluna FROM tabela;\n",
    "Exemplo: SELECT MIN(salary) FROM salaries;\n",
    "\n",
    "Função MAX - Retorna o Maior valor da coluna\n",
    "SELECT MAX(coluna) FROM tabela;\n",
    "\n",
    "Função COUNT - Faz a contagem da quantidade de registros em uma query com a delimitação\n",
    "Exemplo: SELECT COUNT(*) FROM salaries WHERE salary > 100000;\n",
    "Exemplo: SELECT COUNT(*) FROM employees WHERE gender = \"F\";\n",
    "Exemplo: SELECT COUNT(*) AS \"Quantidade\" FROM departments;"
   ]
  },
  {
   "cell_type": "markdown",
   "metadata": {},
   "source": [
    "Função AVG"
   ]
  },
  {
   "cell_type": "markdown",
   "metadata": {},
   "source": [
    "Retorna Média da coluna\n",
    "SELECT AVG(salary) FROM salaries;\n",
    "Exemplo: SELECT AVG(salary) AS \"Média\" FROM salaries;\n",
    "Exemplo: SELECT AVG(salary) AS \"Média\" FROM salaries WHERE salary > 100000;\n"
   ]
  },
  {
   "cell_type": "markdown",
   "metadata": {},
   "source": [
    "Função SUM"
   ]
  },
  {
   "cell_type": "markdown",
   "metadata": {},
   "source": [
    "Retorna a soma de todos os valores numericos de uma coluna\n",
    "SELECT SUM(salary) FROM salaries;\n",
    "Exemplo: SELECT SUM(salary) AS \"Somatorio\" FROM salaries;"
   ]
  },
  {
   "cell_type": "markdown",
   "metadata": {},
   "source": [
    "Função LIKE"
   ]
  },
  {
   "cell_type": "markdown",
   "metadata": {},
   "source": [
    "É utilizado sempre em conjunto com o WHERE\n",
    "Serve para filtrar ainda mais os resultados\n",
    "Utiliza também o coringa% que ajuda muito nas buscas;\n",
    "Exemplo: SELECT * FROM employees WHERE first_name LIKE \"%ber%\";\n",
    "Assim, teremos todos os nomes que contém ber\n",
    "Exemplo: SELECT * FROM employees WHERE first_name LIKE \"%ber%\" AND gender = \"F\";\n",
    "Exemplo: SELECT * FROM titles WHERE title LIKE \"%Engineer\";"
   ]
  },
  {
   "cell_type": "markdown",
   "metadata": {},
   "source": [
    "Função IN"
   ]
  },
  {
   "cell_type": "markdown",
   "metadata": {},
   "source": [
    "Vai fazer uma busca por um conjunto de valores;\n",
    "Exemplo: SELECT * FROM dept_emp WHERE dept_no IN (\"d004\", \"d005\", \"d006\");\n",
    "Desta forma selecionamos os registros apenas dos departamentos d004, d005 e d006.\n",
    "Exemplo: SELECT * FROM departments WHERE dept_name IN (\"Development\", \"Marketing\");\n",
    "Exemplo: SELECT * FROM dept_manager WHERE dept_no IN (\"d005\", \"d001\");\n",
    "Exemplo: SELECT * FROM employees WHERE last_name IN (\"Facello\", \"Peac\");\n"
   ]
  },
  {
   "cell_type": "markdown",
   "metadata": {},
   "source": [
    "Função BETWEEN"
   ]
  },
  {
   "cell_type": "markdown",
   "metadata": {},
   "source": [
    "É parecido com o IN, mas ele recebe uma faixa de valores\n",
    "Exemplo: SELECT * FROM dept_emp WHERE dept_no BETWEEN \"d001\" AND \"d008\";\n",
    "\n",
    "Exemplo: SELECT * FROM dept_emp WHERE dept_no BETWEEN \"d003\" AND \"d005\" ORDER BY dept_no DESC;\n",
    "EXEMPLO: SELECT * FROM salaries WHERE salary BETWEEN 125000 AND 175000;\n",
    "Exemplo: SELECT * FROM salaries WHERE salary BETWEEN 125000 AND 175000 ORDER BY salary DESC;\n"
   ]
  },
  {
   "cell_type": "markdown",
   "metadata": {},
   "source": [
    "# Constraints"
   ]
  },
  {
   "cell_type": "markdown",
   "metadata": {},
   "source": [
    "NOT NULL força um valor de uma coluna especifica não ser nulo;\n",
    "colocamos a instrução após o nome e tipo da coluna ser declarado:\n",
    "nome TIPO NOT NULL;"
   ]
  },
  {
   "cell_type": "markdown",
   "metadata": {},
   "source": [
    "# JOINS"
   ]
  },
  {
   "cell_type": "markdown",
   "metadata": {},
   "source": [
    "INNER JOIN:\n",
    "Colunas que fazem relação entre as tabelas\n",
    "Podemos utilizar qual coluna resgatar após a instrução SELECT\n",
    "Utilizamos a isntrução ON para determinar as colunas que precisam ser iguais\n",
    "Exemplo:\n",
    "SELECT employees.first_name, employees.last_name, salaries.salary\n",
    "FROM employees\n",
    "INNER JOIN salaries\n",
    "ON employees.emp_no = salaries.emp_no;\n",
    "\n",
    "Exemplo:\n",
    "SELECT employees.first_name, employees.last_name, salaries.salary AS salario\n",
    "FROM employees\n",
    "INNER JOIN salaries\n",
    "ON employees.emp_no = salaries.emp_no\n",
    "WHERE salaries.salary >= 120000\n",
    "ORDER BY salaries.salary DESC;\n",
    "\n",
    "Exemplo:\n",
    "SELECT employees.first_name, employees.gender, titles.title\n",
    "FROM employees\n",
    "INNER JOIN titles\n",
    "ON employees.emp_no = titles.emp_no;"
   ]
  },
  {
   "cell_type": "markdown",
   "metadata": {},
   "source": [
    "Left Join"
   ]
  },
  {
   "cell_type": "markdown",
   "metadata": {},
   "source": [
    "Left Join vai retornar todo os dados da tabela da esquerda e os necessários da direita\n",
    "também é chamado de LEFT OUTER JOIN\n",
    "\n",
    "Exemplo:\n",
    "SELECT pessoas.nome, enderecos.*\n",
    "FROM pessoas\n",
    "LEFT JOIN enderecos\n",
    "ON pessoas.id = enderecos.pessoas_id;\n",
    "\n",
    "Exemplo:\n",
    "SELECT employees.first_name, employees.last_name, salaries.salary AS salario\n",
    "FROM employees\n",
    "LEFT JOIN salaries\n",
    "ON employees.emp_no = salaries.emp_no;"
   ]
  },
  {
   "cell_type": "markdown",
   "metadata": {},
   "source": [
    "Right Join"
   ]
  },
  {
   "cell_type": "markdown",
   "metadata": {},
   "source": [
    "É semelhante ao Left, mas pegando as colunas mais a direita\n"
   ]
  },
  {
   "cell_type": "markdown",
   "metadata": {},
   "source": [
    "Join com mais de duas tabelas"
   ]
  },
  {
   "cell_type": "markdown",
   "metadata": {},
   "source": [
    "Exemplo:\n",
    "SELECT employees.first_name, salaries.salary, titles.title\n",
    "FROM employees\n",
    "INNER JOIN salaries\n",
    "ON employees.emp_no = salaries.emp_no\n",
    "INNER JOIN titles\n",
    "ON employees.emp_no = titles.emp_no;\n",
    "\n",
    "Exemplo:\n",
    "SELECT employees.first_name, salaries.salary, titles.title\n",
    "FROM employees\n",
    "INNER JOIN salaries\n",
    "ON employees.emp_no = salaries.emp_no\n",
    "INNER JOIN titles\n",
    "ON employees.emp_no = titles.emp_no\n",
    "WHERE salaries.salary > 125000\n",
    "ORDER BY salaries.salary DESC;"
   ]
  }
 ],
 "metadata": {
  "language_info": {
   "name": "python"
  },
  "orig_nbformat": 4
 },
 "nbformat": 4,
 "nbformat_minor": 2
}
